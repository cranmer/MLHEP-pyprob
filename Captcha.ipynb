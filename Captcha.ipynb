{
 "cells": [
  {
   "cell_type": "markdown",
   "metadata": {},
   "source": [
    "# Probabilistic Programming to break CAPTCHAS\n",
    "\n",
    "Captchas are puzzles usually given as part of a verification procedure to ensure a internet user is indeed a human and not a bit. It involves identifying a string of letters (or numbers)"
   ]
  },
  {
   "cell_type": "code",
   "execution_count": 1,
   "metadata": {},
   "outputs": [
    {
     "name": "stdout",
     "output_type": "stream",
     "text": [
      "\u001b[1m\u001b[31mWarning: Empirical distributions on disk may perform slow because GNU DBM is not available. Please install and configure gdbm library for Python for better speed.\u001b[0m\n"
     ]
    }
   ],
   "source": [
    "%matplotlib inline\n",
    "import numpy as np\n",
    "import torch\n",
    "import matplotlib.pyplot as plt\n",
    "\n",
    "import pyprob\n",
    "import pyprob.distributions\n",
    "import IPython\n",
    "\n",
    "from PIL import Image, ImageFilter, ImageDraw, ImageFont\n"
   ]
  },
  {
   "cell_type": "code",
   "execution_count": 2,
   "metadata": {},
   "outputs": [],
   "source": [
    "alphabetorder = list('abcdefghijklmnopqrstuvw')\n",
    "alphabet = dict(zip(range(len(alphabetorder)),alphabetorder))\n",
    "def message_to_picture(width, height, message, blur):\n",
    "    canvas = Image.new('L', (width, height), \"white\")\n",
    "    font = ImageFont.load_default()\n",
    "    ImageDraw.Draw(canvas).text((2,0), message, 'black', font)\n",
    "    canvas = canvas.filter(ImageFilter.GaussianBlur(blur))\n",
    "    d = np.asarray(list(canvas.getdata()), dtype = np.float)\n",
    "    return d\n",
    "\n",
    "def random_captcha(width, height, blur = 0.5):\n",
    "    letter_distr = pyprob.distributions.Categorical([1/len(alphabet)]*len(alphabet))\n",
    "    length = 3\n",
    "    word =  ''.join([alphabet[letter_distr.sample().item()] for i in range(length)])\n",
    "    d = message_to_picture(width, height, word,blur)\n",
    "    return word, torch.tensor(d, dtype = torch.float).view(-1)/255-0.5\n",
    "\n",
    "def likelihoood(observation,eps):\n",
    "    lhood = pyprob.distributions.Normal(observation,eps*torch.ones(observation.shape))\n",
    "    return lhood"
   ]
  },
  {
   "cell_type": "code",
   "execution_count": 3,
   "metadata": {},
   "outputs": [
    {
     "data": {
      "text/plain": [
       "torch.Size([240])"
      ]
     },
     "execution_count": 3,
     "metadata": {},
     "output_type": "execute_result"
    }
   ],
   "source": [
    "rescaled = random_captcha(20,12)[1]\n",
    "rescaled.shape"
   ]
  },
  {
   "cell_type": "code",
   "execution_count": 4,
   "metadata": {},
   "outputs": [
    {
     "name": "stdout",
     "output_type": "stream",
     "text": [
      "ckm\n"
     ]
    },
    {
     "data": {
      "text/plain": [
       "<matplotlib.image.AxesImage at 0x7fcb9a9b1f60>"
      ]
     },
     "execution_count": 4,
     "metadata": {},
     "output_type": "execute_result"
    },
    {
     "data": {
      "image/png": "[encoded data removed]",
      "text/plain": [
       "<Figure size 432x288 with 1 Axes>"
      ]
     },
     "metadata": {
      "needs_background": "light"
     },
     "output_type": "display_data"
    }
   ],
   "source": [
    "word, img = random_captcha(20,12)\n",
    "print(word)\n",
    "plt.imshow(img.reshape(12,20))"
   ]
  },
  {
   "cell_type": "code",
   "execution_count": 5,
   "metadata": {},
   "outputs": [],
   "source": [
    "import math\n",
    "import pyprob\n",
    "from pyprob import Model\n",
    "from pyprob.distributions import Normal\n",
    "\n",
    "class CaptchaModel(Model):\n",
    "    def __init__(self):\n",
    "        super().__init__(name=\"Gaussian with unknown mean\") # give the model a name\n",
    "\n",
    "    def forward(self): # Needed to specifcy how the generative model is run forward\n",
    "        mu = pyprob.sample(pyprob.distributions.Normal(0,1))\n",
    "        word, d = random_captcha(20,12, blur = 0.5)\n",
    "        obs_distr = likelihoood(d,1.0)\n",
    "        pyprob.observe(pyprob.distributions.Normal(d,0.5*torch.ones(d.shape)), name = 'obs0')\n",
    "        return word, d\n",
    "\n",
    "model = CaptchaModel()"
   ]
  },
  {
   "cell_type": "code",
   "execution_count": 6,
   "metadata": {},
   "outputs": [
    {
     "name": "stdout",
     "output_type": "stream",
     "text": [
      "Creating new inference network...\n",
      "Observable obs0: observe embedding not specified, using the default FEEDFORWARD.\n",
      "Observe embedding dimension: 32\n",
      "Train. time | Epoch| Trace     | Init. loss| Min. loss | Curr. loss| T.since min | Traces/sec\n",
      "New layers, address: 16__forward__mu__Normal__1, distribution: Normal\n",
      "Total addresses: 1, parameters: 59,887\n",
      "0d:00:00:19 | 1    | 5,056     | +1.29e+00 | +1.23e+00 | \u001b[32m+1.23e+00\u001b[0m | 0d:00:00:02 | 313.0                              \n"
     ]
    }
   ],
   "source": [
    "model.learn_inference_network(\n",
    "    num_traces=5000,\n",
    "    observe_embeddings={'obs0': {'dim': 32, 'depth': 3}}\n",
    ")"
   ]
  },
  {
   "cell_type": "code",
   "execution_count": 7,
   "metadata": {},
   "outputs": [
    {
     "name": "stdout",
     "output_type": "stream",
     "text": [
      "Time spent  | Time remain.| Progress             | Trace | Traces/sec\n",
      "0d:00:00:00 | 0d:00:00:00 | #################### | 10/10 | 749.41       \n"
     ]
    },
    {
     "data": {
      "text/plain": [
       "<matplotlib.image.AxesImage at 0x7fcb9a4a3fd0>"
      ]
     },
     "execution_count": 7,
     "metadata": {},
     "output_type": "execute_result"
    },
    {
     "data": {
      "image/png": "[encoded data removed]",
      "text/plain": [
       "<Figure size 432x288 with 1 Axes>"
      ]
     },
     "metadata": {
      "needs_background": "light"
     },
     "output_type": "display_data"
    }
   ],
   "source": [
    "prior = model.prior_distribution()\n",
    "condition = prior.sample()\n",
    "plt.imshow(condition[1].numpy().reshape(12,-1))"
   ]
  },
  {
   "cell_type": "code",
   "execution_count": 8,
   "metadata": {},
   "outputs": [
    {
     "name": "stdout",
     "output_type": "stream",
     "text": [
      "Time spent  | Time remain.| Progress             | Trace       | Traces/sec\n",
      "0d:00:03:35 | 0d:00:00:00 | #################### | 10000/10000 | 46.35       \n"
     ]
    }
   ],
   "source": [
    "posterior = model.posterior_distribution(\n",
    "    num_traces=10000,\n",
    "    inference_engine=pyprob.InferenceEngine.IMPORTANCE_SAMPLING_WITH_INFERENCE_NETWORK,\n",
    "    observe={'obs0': condition[1].numpy()}\n",
    ")"
   ]
  },
  {
   "cell_type": "code",
   "execution_count": 20,
   "metadata": {
    "scrolled": false
   },
   "outputs": [
    {
     "name": "stdout",
     "output_type": "stream",
     "text": [
      "0\n",
      "10\n",
      "20\n",
      "30\n",
      "40\n",
      "50\n",
      "60\n",
      "70\n",
      "80\n",
      "90\n"
     ]
    },
    {
     "data": {
      "image/png": "[encoded data removed]",
      "text/plain": [
       "<Figure size 432x288 with 1 Axes>"
      ]
     },
     "metadata": {
      "needs_background": "light"
     },
     "output_type": "display_data"
    },
    {
     "name": "stdout",
     "output_type": "stream",
     "text": [
      "make animation\n",
      "display image\n"
     ]
    },
    {
     "data": {
      "text/html": [
       "<img src=\"posterior.gif\"/>"
      ],
      "text/plain": [
       "<IPython.core.display.Image object>"
      ]
     },
     "execution_count": 20,
     "metadata": {},
     "output_type": "execute_result"
    }
   ],
   "source": [
    "for i in range(100):\n",
    "    if i%10 == 0:\n",
    "        print(i)\n",
    "#         plt.show()\n",
    "    plt.imshow(posterior.sample()[1].reshape(12,-1))\n",
    "    plt.title('ground truth {}'.format(condition[0]))\n",
    "    plt.savefig('foranim{}.png'.format(str(i).zfill(6)))\n",
    "\n",
    "plt.show()\n",
    "print('make animation')\n",
    "!convert -delay 5 -loop 0 foranim*.png posterior.gif\n",
    "!rm foranim*png\n",
    "print('display image')\n",
    "IPython.display.Image(url='posterior.gif')"
   ]
  },
  {
   "cell_type": "code",
   "execution_count": 22,
   "metadata": {
    "scrolled": false
   },
   "outputs": [
    {
     "name": "stdout",
     "output_type": "stream",
     "text": [
      "0\n",
      "10\n",
      "20\n",
      "30\n",
      "40\n",
      "50\n",
      "60\n",
      "70\n",
      "80\n",
      "90\n"
     ]
    },
    {
     "data": {
      "image/png": "[encoded data removed]",
      "text/plain": [
       "<Figure size 432x288 with 1 Axes>"
      ]
     },
     "metadata": {
      "needs_background": "light"
     },
     "output_type": "display_data"
    },
    {
     "name": "stdout",
     "output_type": "stream",
     "text": [
      "make animation\n",
      "display image\n"
     ]
    },
    {
     "data": {
      "text/html": [
       "<img src=\"prior.gif\"/>"
      ],
      "text/plain": [
       "<IPython.core.display.Image object>"
      ]
     },
     "execution_count": 22,
     "metadata": {},
     "output_type": "execute_result"
    }
   ],
   "source": [
    "for i in range(100):\n",
    "    if i%10 == 0:\n",
    "        print(i)\n",
    "#         plt.show()\n",
    "    plt.imshow(prior.sample()[1].reshape(12,-1))\n",
    "    plt.title('ground truth {}'.format(condition[0]))\n",
    "    plt.savefig('foranim{}.png'.format(str(i).zfill(6)))\n",
    "\n",
    "plt.show()\n",
    "print('make animation')\n",
    "!convert -delay 5 -loop 0 foranim*.png prior.gif\n",
    "!rm foranim*png\n",
    "print('display image')\n",
    "IPython.display.Image(url='prior.gif')"
   ]
  },
  {
   "cell_type": "code",
   "execution_count": 23,
   "metadata": {},
   "outputs": [
    {
     "data": {
      "text/plain": [
       "<matplotlib.collections.LineCollection at 0x7fcb81f90d30>"
      ]
     },
     "execution_count": 23,
     "metadata": {},
     "output_type": "execute_result"
    },
    {
     "data": {
      "image/png": "[encoded data removed]",
      "text/plain": [
       "<Figure size 432x288 with 1 Axes>"
      ]
     },
     "metadata": {
      "needs_background": "light"
     },
     "output_type": "display_data"
    }
   ],
   "source": [
    "letter_num = 1\n",
    "\n",
    "reverse_alphabet = {v:k for k,v in alphabet.items()} \n",
    "c,_,_ = plt.hist([reverse_alphabet[posterior.sample()[0][letter_num]] for i in range(1000)], bins = np.linspace(-0.5,len(alphabet)+0.5,len(alphabet)+2))\n",
    "\n",
    "plt.xticks(range(len(alphabetorder)),list(alphabetorder));\n",
    "plt.vlines(reverse_alphabet[condition[0][letter_num]],0,1.2*max(c), colors = 'r', linestyles = 'dashed')"
   ]
  },
  {
   "cell_type": "code",
   "execution_count": 24,
   "metadata": {},
   "outputs": [
    {
     "data": {
      "text/plain": [
       "'arb'"
      ]
     },
     "execution_count": 24,
     "metadata": {},
     "output_type": "execute_result"
    }
   ],
   "source": [
    "solutions, counts = np.unique([posterior.sample()[0] for i in range(100)], return_counts = True)\n",
    "solutions[np.argmax(counts)]"
   ]
  },
  {
   "cell_type": "code",
   "execution_count": null,
   "metadata": {},
   "outputs": [],
   "source": []
  }
 ],
 "metadata": {
  "kernelspec": {
   "display_name": "Python 3",
   "language": "python",
   "name": "python3"
  },
  "language_info": {
   "codemirror_mode": {
    "name": "ipython",
    "version": 3
   },
   "file_extension": ".py",
   "mimetype": "text/x-python",
   "name": "python",
   "nbconvert_exporter": "python",
   "pygments_lexer": "ipython3",
   "version": "3.7.3"
  }
 },
 "nbformat": 4,
 "nbformat_minor": 2
}
