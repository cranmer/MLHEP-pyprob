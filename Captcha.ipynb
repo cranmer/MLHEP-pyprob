{
 "cells": [
  {
   "cell_type": "markdown",
   "metadata": {},
   "source": [
    "# Probabilistic Programming to break CAPTCHAS\n",
    "\n",
    "Captchas are puzzles usually given as part of a verification procedure to ensure a internet user is indeed a human and not a bit. It involves identifying a string of letters (or numbers)\n",
    "\n",
    "\n",
    "In this example we will write a probabilistic CAPTCHA generator and instrument it using the probabilistic programming library `pyprob` in order to run amortized inference."
   ]
  },
  {
   "cell_type": "markdown",
   "metadata": {},
   "source": [
    "First, we import some basic libraries we will need later on."
   ]
  },
  {
   "cell_type": "code",
   "execution_count": 1,
   "metadata": {},
   "outputs": [
    {
     "name": "stdout",
     "output_type": "stream",
     "text": [
      "\u001b[1m\u001b[31mWarning: Empirical distributions on disk may perform slow because GNU DBM is not available. Please install and configure gdbm library for Python for better speed.\u001b[0m\n"
     ]
    }
   ],
   "source": [
    "%matplotlib inline\n",
    "import numpy as np\n",
    "import torch\n",
    "import time\n",
    "import matplotlib.pyplot as plt\n",
    "\n",
    "import pyprob\n",
    "import pyprob.distributions\n",
    "import IPython\n",
    "\n",
    "from PIL import Image, ImageFilter, ImageDraw, ImageFont\n"
   ]
  },
  {
   "cell_type": "markdown",
   "metadata": {},
   "source": [
    "## Writing a Generator\n",
    "\n",
    "Here we use the `Pillow` library to write a generator. This is a good example how probabilistic programs allow you use general purpose host languages (in this case Python, but could also be C++) with all their nice libraries, instead of restricting you to a statistical modeling framework (try writing this in RooFit :) )"
   ]
  },
  {
   "cell_type": "code",
   "execution_count": 2,
   "metadata": {},
   "outputs": [],
   "source": [
    "# prepare the set of letters from which we \n",
    "\n",
    "alphabetorder = list('abcdefghijklmnopqrstuvw')\n",
    "alphabet = dict(zip(range(len(alphabetorder)),alphabetorder))\n",
    "\n",
    "\n",
    "def message_to_picture(width, height, message, blur):\n",
    "    canvas = Image.new('L', (width, height), \"white\")\n",
    "    font = ImageFont.load_default()\n",
    "    ImageDraw.Draw(canvas).text((2,0), message, 'black', font)\n",
    "    canvas = canvas.filter(ImageFilter.GaussianBlur(blur))\n",
    "    d = np.asarray(list(canvas.getdata()), dtype = np.float)\n",
    "    return d\n",
    "\n",
    "def random_captcha(width, height, blur = 0.5):\n",
    "    letter_distr = pyprob.distributions.Categorical([1/len(alphabet)]*len(alphabet))\n",
    "    length = 3\n",
    "    word =  ''.join([alphabet[letter_distr.sample().item()] for i in range(length)])\n",
    "    d = message_to_picture(width, height, word,blur)\n",
    "    return word, torch.tensor(d, dtype = torch.float).view(-1)/255-0.5\n",
    "\n",
    "def likelihoood(observation,eps):\n",
    "    lhood = pyprob.distributions.Normal(observation,eps*torch.ones(observation.shape))\n",
    "    return lhood"
   ]
  },
  {
   "cell_type": "markdown",
   "metadata": {},
   "source": [
    "# An Example CAPTCHA\n",
    "\n",
    "Note that our captcha generator is very un-sophisticated, but it has the correct components: sampling latters, adding some blur, etc...\n",
    "\n",
    "Let's generate a CAPTCHA to see how it looks"
   ]
  },
  {
   "cell_type": "code",
   "execution_count": 3,
   "metadata": {},
   "outputs": [
    {
     "data": {
      "text/plain": [
       "Text(0.5, 1.0, 'ground truth: ian')"
      ]
     },
     "execution_count": 3,
     "metadata": {},
     "output_type": "execute_result"
    },
    {
     "data": {
      "image/png": "[encoded data removed]",
      "text/plain": [
       "<Figure size 432x288 with 1 Axes>"
      ]
     },
     "metadata": {
      "needs_background": "light"
     },
     "output_type": "display_data"
    }
   ],
   "source": [
    "word, img = random_captcha(20,12, blur = 0.2)\n",
    "plt.imshow(img.reshape(12,20))\n",
    "plt.title('ground truth: {}'.format(word))"
   ]
  },
  {
   "cell_type": "markdown",
   "metadata": {},
   "source": [
    "... and another one"
   ]
  },
  {
   "cell_type": "code",
   "execution_count": 4,
   "metadata": {},
   "outputs": [
    {
     "data": {
      "text/plain": [
       "Text(0.5, 1.0, 'ground truth: ckm')"
      ]
     },
     "execution_count": 4,
     "metadata": {},
     "output_type": "execute_result"
    },
    {
     "data": {
      "image/png": "[encoded data removed]",
      "text/plain": [
       "<Figure size 432x288 with 1 Axes>"
      ]
     },
     "metadata": {
      "needs_background": "light"
     },
     "output_type": "display_data"
    }
   ],
   "source": [
    "word, img = random_captcha(20,12, blur = 0.7)\n",
    "plt.imshow(img.reshape(12,20))\n",
    "plt.title('ground truth: {}'.format(word))"
   ]
  },
  {
   "cell_type": "markdown",
   "metadata": {},
   "source": [
    "# Integrating into `pyprob`\n",
    "\n",
    "Now we will see how we integrate this existing generative model into `pyprob`\n",
    "\n",
    "In `pyprob` we only need to write a `forward()` method and inherit frmo the `Model` class. So integrating it is straight forward!\n",
    "\n",
    "In the end we want to `observe`  the resulting image (we allow the pixel values of the generated image to be sampled frmo the mean determined by the latent rendered image)"
   ]
  },
  {
   "cell_type": "code",
   "execution_count": 5,
   "metadata": {},
   "outputs": [],
   "source": [
    "import math\n",
    "import pyprob\n",
    "from pyprob import Model\n",
    "from pyprob.distributions import Normal\n",
    "\n",
    "class CaptchaModel(Model):\n",
    "    def __init__(self):\n",
    "        super().__init__(name=\"CAPTCHA model\") # give the model a name\n",
    "\n",
    "    def forward(self): # Needed to specifcy how the generative model is run forward\n",
    "        mu = pyprob.sample(pyprob.distributions.Normal(0,1))\n",
    "        blur = pyprob.sample(pyprob.distributions.Normal(0.5,0.3))\n",
    "        word, d = random_captcha(20,12, blur = blur)\n",
    "        obs_distr = likelihoood(d,1.0)\n",
    "        pyprob.observe(pyprob.distributions.Normal(d,0.5*torch.ones(d.shape)), name = 'obs0')\n",
    "        return {\n",
    "            'word': word,\n",
    "            'image': d,\n",
    "            'blur': blur\n",
    "        }\n",
    "\n",
    "model = CaptchaModel()"
   ]
  },
  {
   "cell_type": "markdown",
   "metadata": {},
   "source": [
    "# The prior distribution (unconditioned)\n",
    "\n",
    "let's see what type of CAPTCHAS we get if we just run the generator. This is basically the same way we ran it above, but now it's integrated in `pyprob`."
   ]
  },
  {
   "cell_type": "code",
   "execution_count": 7,
   "metadata": {},
   "outputs": [
    {
     "name": "stdout",
     "output_type": "stream",
     "text": [
      "Time spent  | Time remain.| Progress             | Trace | Traces/sec\n",
      "0d:00:00:00 | 0d:00:00:00 | #################### | 10/10 | 566.42       \n"
     ]
    },
    {
     "data": {
      "image/png": "[encoded data removed]",
      "text/plain": [
       "<Figure size 432x288 with 1 Axes>"
      ]
     },
     "metadata": {
      "needs_background": "light"
     },
     "output_type": "display_data"
    },
    {
     "data": {
      "image/png": "[encoded data removed]",
      "text/plain": [
       "<Figure size 432x288 with 1 Axes>"
      ]
     },
     "metadata": {
      "needs_background": "light"
     },
     "output_type": "display_data"
    }
   ],
   "source": [
    "prior = model.prior_distribution()\n",
    "sample = prior.sample()\n",
    "plt.imshow(sample['image'].numpy().reshape(12,-1))\n",
    "plt.title('ground truth: {}'.format(sample['word']))\n",
    "plt.show()\n",
    "\n",
    "sample = prior.sample()\n",
    "plt.imshow(sample['image'].numpy().reshape(12,-1))\n",
    "plt.title('ground truth: {}'.format(sample['word']))\n",
    "plt.show()"
   ]
  },
  {
   "cell_type": "markdown",
   "metadata": {},
   "source": [
    "## Learning the inference network\n",
    "\n",
    "\n",
    "During inference we want to steer the simulator with a \"smart ML agent\" such that we only get samples that match our observed captcha. This way we can inspect the latent state of the sampled traces and quickly extract the solution.\n",
    "\n",
    "We will now train the ML agent on 5000 traces."
   ]
  },
  {
   "cell_type": "code",
   "execution_count": 8,
   "metadata": {},
   "outputs": [
    {
     "name": "stdout",
     "output_type": "stream",
     "text": [
      "Creating new inference network...\n",
      "Observable obs0: observe embedding not specified, using the default FEEDFORWARD.\n",
      "Observe embedding dimension: 32\n",
      "Train. time | Epoch| Trace     | Init. loss| Min. loss | Curr. loss| T.since min | Traces/sec\n",
      "New layers, address: 16__forward__mu__Normal__1, distribution: Normal\n",
      "New layers, address: 36__forward__blur__Normal__1, distribution: Normal\n",
      "Total addresses: 2, parameters: 61,870\n",
      "0d:00:00:07 | 1    | 5,056     | +1.44e+00 | +1.31e+00 | \u001b[32m+1.32e+00\u001b[0m | 0d:00:00:00 | 617.0                              \n"
     ]
    }
   ],
   "source": [
    "model.learn_inference_network(\n",
    "    num_traces=5000,\n",
    "    observe_embeddings={'obs0': {'dim': 32, 'depth': 3}}\n",
    ")"
   ]
  },
  {
   "cell_type": "markdown",
   "metadata": {},
   "source": [
    "## Sampling from the Posterior\n",
    "\n",
    "Now we will generate the posterior distribution. `pyprob` will generate 10,000 weighted traces from which we can sample according to their weights, which gives us unweighted samples frmo the posterior."
   ]
  },
  {
   "cell_type": "code",
   "execution_count": 9,
   "metadata": {},
   "outputs": [
    {
     "data": {
      "image/png": "[encoded data removed]",
      "text/plain": [
       "<Figure size 432x288 with 1 Axes>"
      ]
     },
     "metadata": {
      "needs_background": "light"
     },
     "output_type": "display_data"
    }
   ],
   "source": [
    "condition = prior.sample()\n",
    "plt.imshow(condition['image'].numpy().reshape(12,-1))\n",
    "plt.title('ground truth: {}'.format(condition['word']))\n",
    "plt.show()"
   ]
  },
  {
   "cell_type": "code",
   "execution_count": 10,
   "metadata": {},
   "outputs": [
    {
     "name": "stdout",
     "output_type": "stream",
     "text": [
      "Time spent  | Time remain.| Progress             | Trace       | Traces/sec\n",
      "0d:00:00:53 | 0d:00:00:00 | #################### | 10000/10000 | 188.66       \n"
     ]
    }
   ],
   "source": [
    "posterior = model.posterior_distribution(\n",
    "    num_traces=10000,\n",
    "    inference_engine=pyprob.InferenceEngine.IMPORTANCE_SAMPLING_WITH_INFERENCE_NETWORK,\n",
    "    observe={'obs0': condition['image'].numpy()}\n",
    ")"
   ]
  },
  {
   "cell_type": "markdown",
   "metadata": {},
   "source": [
    "## Making the Animations\n",
    "\n",
    "Now that we have the prior and posterior distributions we can sample a few captchas to observe the effect of the conditioning on the above \"observation\"\n",
    "\n",
    "We will draw 100 captchas each. If everything worked, the prior will be changing very rapidly while the posterior should almost always yield a CAPTCHA that looks much like the condition"
   ]
  },
  {
   "cell_type": "code",
   "execution_count": 12,
   "metadata": {
    "scrolled": false
   },
   "outputs": [
    {
     "name": "stdout",
     "output_type": "stream",
     "text": [
      "0\n",
      "10\n",
      "20\n",
      "30\n",
      "40\n",
      "50\n",
      "60\n",
      "70\n",
      "80\n",
      "90\n",
      "make animation\n",
      "display image\n"
     ]
    },
    {
     "data": {
      "text/html": [
       "<img src=\"prior_1572353584.1552958.gif\"/>"
      ],
      "text/plain": [
       "<IPython.core.display.Image object>"
      ]
     },
     "execution_count": 12,
     "metadata": {},
     "output_type": "execute_result"
    },
    {
     "data": {
      "text/plain": [
       "<Figure size 432x288 with 0 Axes>"
      ]
     },
     "metadata": {},
     "output_type": "display_data"
    }
   ],
   "source": [
    "for i in range(100):\n",
    "    if i%10 == 0:\n",
    "        print(i)\n",
    "    sample = prior.sample()\n",
    "    plt.imshow(sample['image'].reshape(12,-1))\n",
    "    plt.title('generated {}'.format(sample['word']))\n",
    "    plt.savefig('foranim_prior_{}.png'.format(str(i).zfill(6)))\n",
    "plt.clf()\n",
    "print('make animation')\n",
    "uniq = time.time()\n",
    "!convert -delay 5 -loop 0 foranim_prior_*.png prior_{uniq}.gif\n",
    "!rm foranim_prior_*png\n",
    "print('display image')\n",
    "IPython.display.Image(url='prior_{}.gif'.format(uniq).format(uniq))"
   ]
  },
  {
   "cell_type": "code",
   "execution_count": 13,
   "metadata": {
    "scrolled": false
   },
   "outputs": [
    {
     "name": "stdout",
     "output_type": "stream",
     "text": [
      "0\n",
      "10\n",
      "20\n",
      "30\n",
      "40\n",
      "50\n",
      "60\n",
      "70\n",
      "80\n",
      "90\n",
      "make animation\n",
      "display image\n"
     ]
    },
    {
     "data": {
      "text/html": [
       "<img src=\"posterior_1572353655.433361.gif\"/>"
      ],
      "text/plain": [
       "<IPython.core.display.Image object>"
      ]
     },
     "execution_count": 13,
     "metadata": {},
     "output_type": "execute_result"
    },
    {
     "data": {
      "text/plain": [
       "<Figure size 432x288 with 0 Axes>"
      ]
     },
     "metadata": {},
     "output_type": "display_data"
    }
   ],
   "source": [
    "for i in range(100):\n",
    "    if i%10 == 0:\n",
    "        print(i)\n",
    "    sample = posterior.sample()\n",
    "    plt.imshow(sample['image'].reshape(12,-1))\n",
    "    plt.title('ground truth: {}, generated: {}'.format(condition['word'],sample['word']))\n",
    "    plt.savefig('foranim_posterior_{}.png'.format(str(i).zfill(6)))\n",
    "plt.clf()\n",
    "print('make animation')\n",
    "uniq = time.time()\n",
    "!convert -delay 5 -loop 0 foranim_posterior_*.png posterior_{uniq}.gif\n",
    "!rm -rf foranim_posterior_*png\n",
    "print('display image')\n",
    "IPython.display.Image(url='posterior_{}.gif'.format(uniq))"
   ]
  },
  {
   "cell_type": "markdown",
   "metadata": {},
   "source": [
    "## Inspecting the Latent State\n",
    "\n",
    "For evey sample we draw from the posterior we have full access to the trace. We can e.g. construct marginal posterior  distributions for specific letters of the captcha"
   ]
  },
  {
   "cell_type": "code",
   "execution_count": 14,
   "metadata": {},
   "outputs": [
    {
     "data": {
      "text/plain": [
       "<matplotlib.collections.LineCollection at 0x7f630fd6fc50>"
      ]
     },
     "execution_count": 14,
     "metadata": {},
     "output_type": "execute_result"
    },
    {
     "data": {
      "image/png": "[encoded data removed]",
      "text/plain": [
       "<Figure size 432x288 with 1 Axes>"
      ]
     },
     "metadata": {
      "needs_background": "light"
     },
     "output_type": "display_data"
    }
   ],
   "source": [
    "letter_num = 2\n",
    "\n",
    "reverse_alphabet = {v:k for k,v in alphabet.items()} \n",
    "c,_,_ = plt.hist([reverse_alphabet[posterior.sample()['word'][letter_num]] for i in range(1000)], bins = np.linspace(-0.5,len(alphabet)+0.5,len(alphabet)+2))\n",
    "\n",
    "plt.xticks(range(len(alphabetorder)),list(alphabetorder));\n",
    "plt.vlines(reverse_alphabet[condition['word'][letter_num]],0,1.2*max(c), colors = 'r', linestyles = 'dashed')"
   ]
  },
  {
   "cell_type": "markdown",
   "metadata": {},
   "source": [
    "## Solving the CAPTCHA\n",
    "\n",
    "A good solution is the MAP, the maximum a posteriori value of the posterior. If we sample traces from the posterior and pick the solution which appears most often, it has a good chance to be the true solution"
   ]
  },
  {
   "cell_type": "code",
   "execution_count": 15,
   "metadata": {},
   "outputs": [
    {
     "data": {
      "text/plain": [
       "'wpw'"
      ]
     },
     "execution_count": 15,
     "metadata": {},
     "output_type": "execute_result"
    }
   ],
   "source": [
    "solutions, counts = np.unique([posterior.sample()['word'] for i in range(1000)], return_counts = True)\n",
    "solutions[np.argmax(counts)]"
   ]
  },
  {
   "cell_type": "code",
   "execution_count": null,
   "metadata": {},
   "outputs": [],
   "source": []
  }
 ],
 "metadata": {
  "kernelspec": {
   "display_name": "Python 3",
   "language": "python",
   "name": "python3"
  },
  "language_info": {
   "codemirror_mode": {
    "name": "ipython",
    "version": 3
   },
   "file_extension": ".py",
   "mimetype": "text/x-python",
   "name": "python",
   "nbconvert_exporter": "python",
   "pygments_lexer": "ipython3",
   "version": "3.7.3"
  }
 },
 "nbformat": 4,
 "nbformat_minor": 2
}
