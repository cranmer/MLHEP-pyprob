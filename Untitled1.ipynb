{
 "cells": [
  {
   "cell_type": "code",
   "execution_count": 1,
   "metadata": {},
   "outputs": [
    {
     "name": "stdout",
     "output_type": "stream",
     "text": [
      "\u001b[1m\u001b[31mWarning: Empirical distributions on disk may perform slow because GNU DBM is not available. Please install and configure gdbm library for Python for better speed.\u001b[0m\n"
     ]
    }
   ],
   "source": [
    "import pyprob\n",
    "import math\n",
    "import pyprob\n",
    "from pyprob import Model\n",
    "from pyprob.distributions import Normal, Uniform\n",
    "import torch\n",
    "%matplotlib inline\n",
    "import matplotlib.pyplot as plt\n",
    "import numpy as np"
   ]
  },
  {
   "cell_type": "code",
   "execution_count": 8,
   "metadata": {},
   "outputs": [
    {
     "name": "stdout",
     "output_type": "stream",
     "text": [
      "Time spent  | Time remain.| Progress             | Trace     | Traces/sec\n",
      "0d:00:00:00 | 0d:00:00:00 | #################### | 1000/1000 | 2,838.78       \n"
     ]
    }
   ],
   "source": [
    "class MyModel(Model):\n",
    "    def forward(self):\n",
    "        z = pyprob.sample(Uniform(-5,0), name = 'input1') # NOTE: sample -> denotes latent variables\n",
    "        pyprob.observe(Normal(z,.5), name = 'x')\n",
    "        return z\n",
    "\n",
    "model = MyModel()\n",
    "prior = model.prior_distribution(\n",
    "    num_traces=10000,\n",
    ")"
   ]
  },
  {
   "cell_type": "code",
   "execution_count": 9,
   "metadata": {},
   "outputs": [
    {
     "name": "stdout",
     "output_type": "stream",
     "text": [
      "Creating new inference network...\n",
      "Observable x: observe embedding not specified, using the default FEEDFORWARD.\n",
      "Observe embedding dimension: 30\n",
      "Train. time | Epoch| Trace     | Init. loss| Min. loss | Curr. loss| T.since min | Traces/sec\n",
      "New layers, address: 16__forward__z__Uniform__1, distribution: Uniform\n",
      "Total addresses: 1, parameters: 4,230\n",
      "0d:00:00:05 | 1    | 10,048    | +1.61e+00 | +1.01e+00 | \u001b[32m+1.02e+00\u001b[0m | 0d:00:00:00 | 1,747.0                              \n"
     ]
    }
   ],
   "source": [
    "model.learn_inference_network(\n",
    "    num_traces=10000,\n",
    "    observe_embeddings={'x': {'dim': 30, 'depth': 2}}\n",
    ")"
   ]
  },
  {
   "cell_type": "code",
   "execution_count": 12,
   "metadata": {},
   "outputs": [
    {
     "name": "stdout",
     "output_type": "stream",
     "text": [
      "Time spent  | Time remain.| Progress             | Trace     | Traces/sec\n",
      "0d:00:00:05 | 0d:00:00:00 | #################### | 1000/1000 | 168.61       \n"
     ]
    }
   ],
   "source": [
    "observed_data = {'x': 0.2}\n",
    "\n",
    "posterior = model.posterior_distribution(\n",
    "    num_traces = 1000,\n",
    "    inference_engine=pyprob.InferenceEngine.IMPORTANCE_SAMPLING_WITH_INFERENCE_NETWORK,\n",
    "    observe = observed_data\n",
    ")"
   ]
  },
  {
   "cell_type": "code",
   "execution_count": 13,
   "metadata": {},
   "outputs": [
    {
     "data": {
      "text/plain": [
       "<matplotlib.collections.LineCollection at 0x123c4a208>"
      ]
     },
     "execution_count": 13,
     "metadata": {},
     "output_type": "execute_result"
    },
    {
     "data": {
      "image/png": "[encoded data removed]",
      "text/plain": [
       "<Figure size 432x288 with 1 Axes>"
      ]
     },
     "metadata": {
      "needs_background": "light"
     },
     "output_type": "display_data"
    }
   ],
   "source": [
    "c,_,_ = plt.hist(prior.values_numpy(), weights = prior.weights_numpy(), bins = np.linspace(-5,5,51));\n",
    "c,_,_ = plt.hist(posterior.values_numpy(), weights = posterior.weights_numpy(), bins = np.linspace(-5,5,51));\n",
    "\n",
    "plt.vlines(observed_data['x'], 0, max(c))"
   ]
  },
  {
   "cell_type": "code",
   "execution_count": null,
   "metadata": {},
   "outputs": [],
   "source": []
  }
 ],
 "metadata": {
  "kernelspec": {
   "display_name": "Python 3",
   "language": "python",
   "name": "python3"
  },
  "language_info": {
   "codemirror_mode": {
    "name": "ipython",
    "version": 3
   },
   "file_extension": ".py",
   "mimetype": "text/x-python",
   "name": "python",
   "nbconvert_exporter": "python",
   "pygments_lexer": "ipython3",
   "version": "3.6.6"
  }
 },
 "nbformat": 4,
 "nbformat_minor": 2
}
