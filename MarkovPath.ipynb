{
 "cells": [
  {
   "cell_type": "code",
   "execution_count": 47,
   "metadata": {},
   "outputs": [],
   "source": [
    "import pyprob\n",
    "%matplotlib inline\n",
    "import matplotlib.pyplot as plt\n",
    "from pyprob import Model\n",
    "import numpy as np\n",
    "\n",
    "import math\n",
    "import pyprob\n",
    "from pyprob import Model\n",
    "from pyprob.distributions import Normal, Uniform, Categorical\n",
    "import torch\n"
   ]
  },
  {
   "cell_type": "code",
   "execution_count": 65,
   "metadata": {},
   "outputs": [],
   "source": [
    "class MarkovChainPath(Model):\n",
    "    def __init__(self):\n",
    "        super().__init__(name=\"Gaussian with unknown mean\") # give the model a name\n",
    "\n",
    "    def forward(self): # Needed to specifcy how the generative model is run forward\n",
    "        # sample the (latent) mean variable to be inferred:\n",
    "        coords = [[0,0]]\n",
    "        moves = {0: -1, 1: 0, 2: 1}\n",
    "        for i in range(1,10):\n",
    "            last = coords[-1][1]\n",
    "            move = pyprob.sample(Categorical([1/3.,1/3.,1/3.]), name = 'input{}'.format(i))\n",
    "            move = moves[move.item()]\n",
    "            coords.append([i,last+move])\n",
    "\n",
    "        obs_distr = Normal(coords[-1][1], 0.1)\n",
    "        pyprob.observe(obs_distr, name='obs0') # NOTE: observe -> denotes observable variables\n",
    "        return coords\n",
    "\n",
    "model = MarkovChainPath()"
   ]
  },
  {
   "cell_type": "code",
   "execution_count": 66,
   "metadata": {},
   "outputs": [
    {
     "name": "stdout",
     "output_type": "stream",
     "text": [
      "Creating new inference network...\n",
      "Observable obs0: observe embedding not specified, using the default FEEDFORWARD.\n",
      "Observe embedding dimension: 32\n",
      "Train. time | Epoch| Trace     | Init. loss| Min. loss | Curr. loss| T.since min | Traces/sec\n",
      "New layers, address: 76__forward__move__Categorical(len_probs:3)__1, distribution: Categorical\n",
      "New layers, address: 76__forward__move__Categorical(len_probs:3)__2, distribution: Categorical\n",
      "New layers, address: 76__forward__move__Categorical(len_probs:3)__3, distribution: Categorical\n",
      "New layers, address: 76__forward__move__Categorical(len_probs:3)__4, distribution: Categorical\n",
      "New layers, address: 76__forward__move__Categorical(len_probs:3)__5, distribution: Categorical\n",
      "New layers, address: 76__forward__move__Categorical(len_probs:3)__6, distribution: Categorical\n",
      "New layers, address: 76__forward__move__Categorical(len_probs:3)__7, distribution: Categorical\n",
      "New layers, address: 76__forward__move__Categorical(len_probs:3)__8, distribution: Categorical\n",
      "New layers, address: 76__forward__move__Categorical(len_probs:3)__9, distribution: Categorical\n",
      "Total addresses: 9, parameters: 8,495\n",
      "0d:00:00:20 | 1    | 10,048    | +9.99e+00 | +9.21e+00 | \u001b[32m+9.41e+00\u001b[0m | 0d:00:00:01 | 550.0                              \n"
     ]
    }
   ],
   "source": [
    "model.learn_inference_network(\n",
    "    num_traces=10000,\n",
    "    observe_embeddings={'obs0': {'dim': 32, 'depth': 3}}\n",
    ")"
   ]
  },
  {
   "cell_type": "code",
   "execution_count": 67,
   "metadata": {},
   "outputs": [
    {
     "name": "stdout",
     "output_type": "stream",
     "text": [
      "Time spent  | Time remain.| Progress             | Trace     | Traces/sec\n",
      "0d:00:00:02 | 0d:00:00:00 | #################### | 2000/2000 | 691.24       \n"
     ]
    }
   ],
   "source": [
    "prior = model.prior_distribution(\n",
    "    num_traces=2000,\n",
    ")"
   ]
  },
  {
   "cell_type": "code",
   "execution_count": 74,
   "metadata": {},
   "outputs": [
    {
     "name": "stdout",
     "output_type": "stream",
     "text": [
      "Time spent  | Time remain.| Progress             | Trace     | Traces/sec\n",
      "0d:00:00:10 | 0d:00:00:00 | #################### | 2000/2000 | 185.68       \n"
     ]
    }
   ],
   "source": [
    "condition = {'obs0': 7}\n",
    "posterior = model.posterior_distribution(\n",
    "    num_traces=2000,\n",
    "    inference_engine=pyprob.InferenceEngine.IMPORTANCE_SAMPLING_WITH_INFERENCE_NETWORK,\n",
    "    observe=condition\n",
    ")"
   ]
  },
  {
   "cell_type": "code",
   "execution_count": 75,
   "metadata": {},
   "outputs": [],
   "source": [
    "post_paths = [posterior.sample() for i in range(20)]\n",
    "\n",
    "prior_paths = [prior.sample() for i in range(20)]"
   ]
  },
  {
   "cell_type": "code",
   "execution_count": 76,
   "metadata": {},
   "outputs": [
    {
     "data": {
      "image/png": "[encoded data removed]",
      "text/plain": [
       "<Figure size 432x288 with 1 Axes>"
      ]
     },
     "metadata": {
      "needs_background": "light"
     },
     "output_type": "display_data"
    }
   ],
   "source": [
    "for p in post_paths:\n",
    "    p = np.asarray(p)\n",
    "    plt.plot(p[:,0],p[:,1], c = 'steelblue', alpha = 0.1)\n",
    "    \n",
    "for p in prior_paths:\n",
    "    p = np.asarray(p)\n",
    "    plt.plot(p[:,0],p[:,1], c = 'orangered', alpha = 0.1)    "
   ]
  },
  {
   "cell_type": "code",
   "execution_count": null,
   "metadata": {},
   "outputs": [],
   "source": []
  },
  {
   "cell_type": "code",
   "execution_count": null,
   "metadata": {},
   "outputs": [],
   "source": []
  }
 ],
 "metadata": {
  "kernelspec": {
   "display_name": "Python 3",
   "language": "python",
   "name": "python3"
  },
  "language_info": {
   "codemirror_mode": {
    "name": "ipython",
    "version": 3
   },
   "file_extension": ".py",
   "mimetype": "text/x-python",
   "name": "python",
   "nbconvert_exporter": "python",
   "pygments_lexer": "ipython3",
   "version": "3.6.6"
  }
 },
 "nbformat": 4,
 "nbformat_minor": 2
}
