{
 "cells": [
  {
   "cell_type": "code",
   "execution_count": 1,
   "metadata": {},
   "outputs": [
    {
     "ename": "ModuleNotFoundError",
     "evalue": "No module named 'pyprob'",
     "output_type": "error",
     "traceback": [
      "\u001b[0;31m---------------------------------------------------------------------------\u001b[0m",
      "\u001b[0;31mModuleNotFoundError\u001b[0m                       Traceback (most recent call last)",
      "\u001b[0;32m<ipython-input-1-7179dae23dda>\u001b[0m in \u001b[0;36m<module>\u001b[0;34m\u001b[0m\n\u001b[0;32m----> 1\u001b[0;31m \u001b[0;32mimport\u001b[0m \u001b[0mpyprob\u001b[0m\u001b[0;34m\u001b[0m\u001b[0m\n\u001b[0m\u001b[1;32m      2\u001b[0m \u001b[0mget_ipython\u001b[0m\u001b[0;34m(\u001b[0m\u001b[0;34m)\u001b[0m\u001b[0;34m.\u001b[0m\u001b[0mrun_line_magic\u001b[0m\u001b[0;34m(\u001b[0m\u001b[0;34m'matplotlib'\u001b[0m\u001b[0;34m,\u001b[0m \u001b[0;34m'inline'\u001b[0m\u001b[0;34m)\u001b[0m\u001b[0;34m\u001b[0m\u001b[0m\n\u001b[1;32m      3\u001b[0m \u001b[0;32mimport\u001b[0m \u001b[0mmatplotlib\u001b[0m\u001b[0;34m.\u001b[0m\u001b[0mpyplot\u001b[0m \u001b[0;32mas\u001b[0m \u001b[0mplt\u001b[0m\u001b[0;34m\u001b[0m\u001b[0m\n\u001b[1;32m      4\u001b[0m \u001b[0;32mfrom\u001b[0m \u001b[0mpyprob\u001b[0m \u001b[0;32mimport\u001b[0m \u001b[0mModel\u001b[0m\u001b[0;34m\u001b[0m\u001b[0m\n\u001b[1;32m      5\u001b[0m \u001b[0;32mimport\u001b[0m \u001b[0mnumpy\u001b[0m \u001b[0;32mas\u001b[0m \u001b[0mnp\u001b[0m\u001b[0;34m\u001b[0m\u001b[0m\n",
      "\u001b[0;31mModuleNotFoundError\u001b[0m: No module named 'pyprob'"
     ]
    }
   ],
   "source": [
    "import pyprob\n",
    "%matplotlib inline\n",
    "import matplotlib.pyplot as plt\n",
    "from pyprob import Model\n",
    "import numpy as np\n",
    "\n",
    "import math\n",
    "import pyprob\n",
    "from pyprob import Model\n",
    "from pyprob.distributions import Normal, Uniform, Categorical\n",
    "import torch\n"
   ]
  },
  {
   "cell_type": "code",
   "execution_count": 2,
   "metadata": {},
   "outputs": [],
   "source": [
    "class MarkovChainPath(Model):\n",
    "    def __init__(self):\n",
    "        super().__init__(name=\"Gaussian with unknown mean\") # give the model a name\n",
    "\n",
    "    def forward(self): # Needed to specifcy how the generative model is run forward\n",
    "        # sample the (latent) mean variable to be inferred:\n",
    "        coords = [[0,0]]\n",
    "        moves = {0: -1, 1: 1, 2: 1}\n",
    "        for i in range(1,5):\n",
    "            last = coords[-1][1]\n",
    "            move = pyprob.sample(Categorical([1/2.,1/2.]), name = 'input{}'.format(i))\n",
    "            move = moves[move.item()]\n",
    "            coords.append([i,last+move])\n",
    "\n",
    "        obs_distr = Normal(coords[-1][1], 0.1)\n",
    "        pyprob.observe(obs_distr, name='obs0') # NOTE: observe -> denotes observable variables\n",
    "        return coords\n",
    "\n",
    "model = MarkovChainPath()"
   ]
  },
  {
   "cell_type": "code",
   "execution_count": null,
   "metadata": {},
   "outputs": [
    {
     "name": "stdout",
     "output_type": "stream",
     "text": [
      "Creating new inference network...\n",
      "Observable obs0: observe embedding not specified, using the default FEEDFORWARD.\n",
      "Observe embedding dimension: 100\n",
      "Train. time | Epoch| Trace     | Init. loss| Min. loss | Curr. loss| T.since min | Traces/sec\n",
      "New layers, address: 74__forward__move__Categorical(len_probs:2)__1, distribution: Categorical\n",
      "New layers, address: 74__forward__move__Categorical(len_probs:2)__2, distribution: Categorical\n",
      "New layers, address: 74__forward__move__Categorical(len_probs:2)__3, distribution: Categorical\n",
      "New layers, address: 74__forward__move__Categorical(len_probs:2)__4, distribution: Categorical\n",
      "Total addresses: 4, parameters: 54,070\n",
      "0d:00:00:46 | 1    | 49,088    | +2.79e+00 | +1.77e+00 | \u001b[32m+2.05e+00\u001b[0m | 0d:00:00:16 | 1,054.0                              \r"
     ]
    }
   ],
   "source": [
    "model.learn_inference_network(\n",
    "    num_traces=50000,\n",
    "    observe_embeddings={'obs0': {'dim': 100, 'depth': 5}}\n",
    ")"
   ]
  },
  {
   "cell_type": "code",
   "execution_count": null,
   "metadata": {},
   "outputs": [],
   "source": [
    "prior = model.prior_traces(\n",
    "    num_traces=1000,\n",
    ")"
   ]
  },
  {
   "cell_type": "code",
   "execution_count": null,
   "metadata": {},
   "outputs": [],
   "source": [
    "condition = {'obs0': 0}\n",
    "posterior = model.posterior_traces(\n",
    "    num_traces=1000,\n",
    "    inference_engine=pyprob.InferenceEngine.IMPORTANCE_SAMPLING_WITH_INFERENCE_NETWORK,\n",
    "    observe=condition\n",
    ")"
   ]
  },
  {
   "cell_type": "code",
   "execution_count": null,
   "metadata": {},
   "outputs": [],
   "source": [
    "post_paths  = [posterior.sample().result for i in range(1000)]\n",
    "prior_paths = [prior.sample().result for i in range(1000)]"
   ]
  },
  {
   "cell_type": "code",
   "execution_count": null,
   "metadata": {},
   "outputs": [],
   "source": [
    "for p in prior_paths:\n",
    "    p = np.asarray(p)\n",
    "    plt.plot(p[:,0],p[:,1], c = 'orangered', alpha = 0.1)    \n",
    "    \n",
    "    \n",
    "for p in post_paths:\n",
    "    p = np.asarray(p)\n",
    "    plt.plot(p[:,0],p[:,1] + 0.5, c = 'steelblue', alpha = 0.1, )#linewidth = 3)"
   ]
  },
  {
   "cell_type": "code",
   "execution_count": null,
   "metadata": {},
   "outputs": [],
   "source": [
    "plt.hist([p[-1][1] for p in prior_paths], np.linspace(-15.5,15.5,32), alpha = 0.2);\n",
    "plt.hist([p[-1][1] for p in post_paths], np.linspace(-15.5,15.5,32), alpha = 0.2);"
   ]
  },
  {
   "cell_type": "code",
   "execution_count": null,
   "metadata": {},
   "outputs": [],
   "source": [
    "plt.hist([t.log_importance_weight for t in posterior], bins = 100);"
   ]
  },
  {
   "cell_type": "code",
   "execution_count": null,
   "metadata": {},
   "outputs": [],
   "source": []
  },
  {
   "cell_type": "code",
   "execution_count": null,
   "metadata": {},
   "outputs": [],
   "source": []
  },
  {
   "cell_type": "code",
   "execution_count": null,
   "metadata": {},
   "outputs": [],
   "source": []
  }
 ],
 "metadata": {
  "kernelspec": {
   "display_name": "Python 3",
   "language": "python",
   "name": "python3"
  },
  "language_info": {
   "codemirror_mode": {
    "name": "ipython",
    "version": 3
   },
   "file_extension": ".py",
   "mimetype": "text/x-python",
   "name": "python",
   "nbconvert_exporter": "python",
   "pygments_lexer": "ipython3",
   "version": "3.6.6"
  }
 },
 "nbformat": 4,
 "nbformat_minor": 2
}
